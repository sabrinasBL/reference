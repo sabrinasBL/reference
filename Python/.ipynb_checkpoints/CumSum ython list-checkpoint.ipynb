{
 "cells": [
  {
   "cell_type": "code",
   "execution_count": null,
   "metadata": {},
   "outputs": [],
   "source": [
    "# NEXT STEPS\n",
    "# combine the text, length, and cumulative length lists in 1 dataframe\n",
    "# for each record in dataframe, print word, length, and cum length\n",
    "\n",
    "import random\n",
    "import numpy as np\n",
    "\n",
    "words = [\"Hufflepuff\",\"Slytherin\",\"Hedwig\",\"Voldemort\",\"Muggle\",\"Gryffindor\"]\n",
    "\n",
    "# create a list of word lengths\n",
    "wordslen = [len(word) for word in words]\n",
    "print(\"List: \" + str(wordslen))\n",
    "\n",
    "#sum the list\n",
    "wordslen_tot = sum(wordslen)\n",
    "print(\"Sum list of word lengths: \" + str(wordslen_tot))\n",
    "\n",
    "# convert the list to a numpy array\n",
    "wordslen_array = np.array(wordslen)\n",
    "print(\"Array: \" + str(wordslen_array))\n",
    "#sum the list values\n",
    "print(\"Sum array of word lengths: \" + str(np.sum(wordslen_array)))\n",
    "\n",
    "# using numpy, use built in cumulative sum function\n",
    "words_cumsum = np.cumsum(wordslen)\n",
    "print(words_cumsum)\n",
    "\n",
    "for word in words:\n",
    "  wordlen = len(word)\n",
    "  if words[0]:\n",
    "    wordlencum = wordlen\n",
    "  else:\n",
    "    wordlencum += wordlen\n",
    "  print(\"Length of \" + str(word) + \": \" + str(wordlen))\n",
    "  print(\"Cumulative word length: \" + str(wordlencum))"
   ]
  }
 ],
 "metadata": {
  "kernelspec": {
   "display_name": "Python 3",
   "language": "python",
   "name": "python3"
  },
  "language_info": {
   "codemirror_mode": {
    "name": "ipython",
    "version": 3
   },
   "file_extension": ".py",
   "mimetype": "text/x-python",
   "name": "python",
   "nbconvert_exporter": "python",
   "pygments_lexer": "ipython3",
   "version": "3.7.1"
  }
 },
 "nbformat": 4,
 "nbformat_minor": 2
}
